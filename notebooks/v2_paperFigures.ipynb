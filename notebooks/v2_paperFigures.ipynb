{
 "cells": [
  {
   "cell_type": "markdown",
   "id": "e29fc841",
   "metadata": {},
   "source": [
    "# LSST Camera Sensor Annomalies: Figures\n",
    "\n",
    "Author: Johnny Esteves, University Of Michigan\n",
    "\n",
    "<b> Figures </b>: \n",
    "1. Deviation maps: flux, position, psf-size, shape\n",
    "2. Mid-line Break"
   ]
  },
  {
   "cell_type": "code",
   "execution_count": 1,
   "id": "bd768c5a",
   "metadata": {
    "ExecuteTime": {
     "end_time": "2022-12-26T18:56:22.926107Z",
     "start_time": "2022-12-26T18:56:22.914206Z"
    }
   },
   "outputs": [
    {
     "name": "stdout",
     "output_type": "stream",
     "text": [
      "/Users/jesteves/Documents/GitHub/lsst-treeRing\n"
     ]
    }
   ],
   "source": [
    "cd .."
   ]
  },
  {
   "cell_type": "code",
   "execution_count": 2,
   "id": "a99a1607",
   "metadata": {
    "ExecuteTime": {
     "end_time": "2022-12-26T18:56:25.130313Z",
     "start_time": "2022-12-26T18:56:23.103271Z"
    }
   },
   "outputs": [],
   "source": [
    "%reset -f\n",
    "%matplotlib inline\n",
    "%load_ext autoreload\n",
    "%autoreload 2\n",
    "\n",
    "import numpy as np\n",
    "\n",
    "import matplotlib.pyplot as plt\n",
    "plt.rc('image', interpolation='bicubic', origin='lower', cmap = 'viridis')\n",
    "plt.rcParams[\"axes.formatter.useoffset\"] = False\n",
    "plt.rcParams['figure.figsize'] = [14.0, 10.0]\n",
    "plt.rcParams['font.size'] = 16\n",
    "rcParams = plt.rcParams.copy()\n",
    "\n",
    "import matplotlib\n",
    "matplotlib.rcParams['mathtext.fontset'] = 'stix'\n",
    "matplotlib.rcParams['font.family'] = 'STIXGeneral'"
   ]
  },
  {
   "cell_type": "code",
   "execution_count": 3,
   "id": "c973eb90",
   "metadata": {
    "ExecuteTime": {
     "end_time": "2022-12-26T18:56:25.157046Z",
     "start_time": "2022-12-26T18:56:25.132478Z"
    }
   },
   "outputs": [],
   "source": [
    "def saveFig(fig, fname, dpi=120):\n",
    "    fig.savefig(fname, dpi=dpi, format='pdf', bbox_inches='tight')"
   ]
  },
  {
   "cell_type": "markdown",
   "id": "56975db3",
   "metadata": {
    "ExecuteTime": {
     "end_time": "2022-09-25T16:12:48.028791Z",
     "start_time": "2022-09-25T16:12:48.018901Z"
    }
   },
   "source": [
    "## Load Data\n",
    "\n",
    "Retrieve the output measurements from the spotgrid detector code, ```mixcoatl```.\n"
   ]
  },
  {
   "cell_type": "markdown",
   "id": "c7801f87",
   "metadata": {},
   "source": [
    "### Mixcoatl output\n",
    "\n",
    "<b> Updates since raft9 data </b>:\n",
    "\n",
    "<li> correction for shaking on the z-direction of the xy-motor plataform </li>\n",
    "<li> new distortion map imaging functionality </li>    \n",
    "<li> compute ellipticities based on the second moments </li>\n",
    "<li> transform the vectors to tree ring coordinates </li>\n",
    "\n",
    "The respective functions are: <br>\n",
    "```sensor.correct_shaking()``` <br>\n",
    "```sensor.get_imaging_map()``` <br>\n",
    "```sensor.compute_ellipticities()``` <br>\n",
    "```sensor.transform_to_treeRing_coords()``` <br>\n"
   ]
  },
  {
   "cell_type": "code",
   "execution_count": 4,
   "id": "92d8ca88",
   "metadata": {
    "ExecuteTime": {
     "end_time": "2022-12-26T18:56:26.725099Z",
     "start_time": "2022-12-26T18:56:25.158757Z"
    }
   },
   "outputs": [
    {
     "name": "stdout",
     "output_type": "stream",
     "text": [
      "You are not connected to a LSST machine\n",
      "Fake Bluter\n"
     ]
    }
   ],
   "source": [
    "from spotgrid_butler_new import SpotgridCatalog\n",
    "\n",
    "repo25 = '/sdf/group/lsst/camera/IandT/repo_gen3/BOT_data/butler.yaml'\n",
    "repo9 = '/sdf/group/lsst/camera/IandT/repo_gen3/spot_9raft/butler.yaml'\n",
    "\n",
    "setting = [\n",
    "    (repo25, 'u/snyder18/spot_13242/gridfit_run1', 'u/snyder18/spot_13242/gridcalibration'),\n",
    "    (repo25, 'u/snyder18/spot_13243/gridfit_run1', 'u/snyder18/spot_13243/gridcalibration'),\n",
    "    (repo25, 'u/snyder18/spot_13237/gridfit_run1', 'u/snyder18/spot_13237/gridcalibration'),\n",
    "    (repo25, 'u/snyder18/spot_13246/gridfit_run1', 'u/snyder18/spot_13246/gridcalibration'),\n",
    "    (repo9, 'u/asnyder/spot/e2v_analysis', 'u/asnyder/spot/e2v_calibration'),        \n",
    "    (repo9, 'u/asnyder/spot/itl_analysis', 'u/asnyder/spot/itl_calibration')]\n"
   ]
  },
  {
   "cell_type": "code",
   "execution_count": 5,
   "id": "37830b06",
   "metadata": {
    "ExecuteTime": {
     "end_time": "2022-12-26T18:57:44.619006Z",
     "start_time": "2022-12-26T18:56:26.727732Z"
    },
    "scrolled": true
   },
   "outputs": [
    {
     "name": "stdout",
     "output_type": "stream",
     "text": [
      "repo: /sdf/group/lsst/camera/IandT/repo_gen3/BOT_data/butler.yaml\n",
      "--------------------------------------------------\n",
      "Repository        : /sdf/group/lsst/camera/IandT/repo_gen3/BOT_data/butler.yaml\n",
      "catalog collection: u/snyder18/spot_13242/gridfit_run1\n",
      "calib collection  : u/snyder18/spot_13242/gridcalibration\n",
      "Found tmp/R03_S12_x_arr.npy\n",
      "Found tmp/R03_S12_y_arr.npy\n",
      "Found tmp/R03_S12_xx_arr.npy\n",
      "Found tmp/R03_S12_xy_arr.npy\n",
      "Found tmp/R03_S12_yy_arr.npy\n",
      "Found tmp/R03_S12_dx_arr.npy\n",
      "Found tmp/R03_S12_dy_arr.npy\n",
      "Found tmp/R03_S12_dxx_arr.npy\n",
      "Found tmp/R03_S12_dyy_arr.npy\n",
      "Found tmp/R03_S12_dxy_arr.npy\n",
      "Found tmp/R03_S12_instFlux_arr.npy\n",
      "Found tmp/R03_S12_instFluxErr_arr.npy\n",
      "Found tmp/R03_S12_x_center_arr.npy\n",
      "Found tmp/R03_S12_y_center_arr.npy\n",
      "Found tmp/R03_S12_dFlux_arr.npy\n",
      "Found tmp/R03_S12_dg1_arr.npy\n",
      "Found tmp/R03_S12_dg2_arr.npy\n",
      "Loading data for ITL tmp/R03_S12.\n"
     ]
    },
    {
     "name": "stderr",
     "output_type": "stream",
     "text": [
      "WARNING: Input data contains invalid values (NaNs or infs), which were automatically clipped. [astropy.stats.sigma_clipping]\n"
     ]
    },
    {
     "name": "stdout",
     "output_type": "stream",
     "text": [
      "Computing statistics for ITL tmp/R03_S12.\n"
     ]
    },
    {
     "name": "stderr",
     "output_type": "stream",
     "text": [
      "/Users/jesteves/Documents/GitHub/lsst-treeRing/spotgrid_butler_new.py:340: RuntimeWarning: Mean of empty slice\n",
      "  self.dxx_mean = np.nanmean(self.dxx_arr, axis=1)\n",
      "/Users/jesteves/opt/anaconda3/lib/python3.9/site-packages/numpy/lib/nanfunctions.py:997: RuntimeWarning: All-NaN slice encountered\n",
      "  result = np.apply_along_axis(_nanmedian1d, axis, a, overwrite_input)\n",
      "/Users/jesteves/opt/anaconda3/lib/python3.9/site-packages/numpy/lib/nanfunctions.py:1670: RuntimeWarning: Degrees of freedom <= 0 for slice.\n",
      "  var = nanvar(a, axis=axis, dtype=dtype, out=out, ddof=ddof,\n",
      "/Users/jesteves/Documents/GitHub/lsst-treeRing/spotgrid_butler_new.py:344: RuntimeWarning: Mean of empty slice\n",
      "  self.dyy_mean = np.nanmean(self.dyy_arr, axis=1)\n",
      "/Users/jesteves/Documents/GitHub/lsst-treeRing/spotgrid_butler_new.py:348: RuntimeWarning: Mean of empty slice\n",
      "  self.dxy_mean = np.nanmean(self.dxy_arr, axis=1)\n",
      "/Users/jesteves/Documents/GitHub/lsst-treeRing/spotgrid_butler_new.py:357: RuntimeWarning: Mean of empty slice\n",
      "  self.dFlux_med = np.nanmean(self.dFlux_arr, axis=1)\n"
     ]
    },
    {
     "name": "stdout",
     "output_type": "stream",
     "text": [
      "Computing filter spots for ITL tmp/R03_S12.\n",
      "repo: /sdf/group/lsst/camera/IandT/repo_gen3/BOT_data/butler.yaml\n",
      "--------------------------------------------------\n",
      "Repository        : /sdf/group/lsst/camera/IandT/repo_gen3/BOT_data/butler.yaml\n",
      "catalog collection: u/snyder18/spot_13243/gridfit_run1\n",
      "calib collection  : u/snyder18/spot_13243/gridcalibration\n",
      "Found tmp/R10_S11_x_arr.npy\n",
      "Found tmp/R10_S11_y_arr.npy\n",
      "Found tmp/R10_S11_xx_arr.npy\n",
      "Found tmp/R10_S11_xy_arr.npy\n",
      "Found tmp/R10_S11_yy_arr.npy\n",
      "Found tmp/R10_S11_dx_arr.npy\n",
      "Found tmp/R10_S11_dy_arr.npy\n",
      "Found tmp/R10_S11_dxx_arr.npy\n",
      "Found tmp/R10_S11_dyy_arr.npy\n",
      "Found tmp/R10_S11_dxy_arr.npy\n",
      "Found tmp/R10_S11_instFlux_arr.npy\n",
      "Found tmp/R10_S11_instFluxErr_arr.npy\n",
      "Found tmp/R10_S11_x_center_arr.npy\n",
      "Found tmp/R10_S11_y_center_arr.npy\n",
      "Found tmp/R10_S11_dFlux_arr.npy\n",
      "Found tmp/R10_S11_dg1_arr.npy\n",
      "Found tmp/R10_S11_dg2_arr.npy\n",
      "Loading data for ITL tmp/R10_S11.\n"
     ]
    },
    {
     "name": "stderr",
     "output_type": "stream",
     "text": [
      "WARNING: Input data contains invalid values (NaNs or infs), which were automatically clipped. [astropy.stats.sigma_clipping]\n"
     ]
    },
    {
     "name": "stdout",
     "output_type": "stream",
     "text": [
      "Computing statistics for ITL tmp/R10_S11.\n"
     ]
    },
    {
     "name": "stderr",
     "output_type": "stream",
     "text": [
      "/Users/jesteves/Documents/GitHub/lsst-treeRing/spotgrid_butler_new.py:340: RuntimeWarning: Mean of empty slice\n",
      "  self.dxx_mean = np.nanmean(self.dxx_arr, axis=1)\n",
      "/Users/jesteves/opt/anaconda3/lib/python3.9/site-packages/numpy/lib/nanfunctions.py:997: RuntimeWarning: All-NaN slice encountered\n",
      "  result = np.apply_along_axis(_nanmedian1d, axis, a, overwrite_input)\n",
      "/Users/jesteves/opt/anaconda3/lib/python3.9/site-packages/numpy/lib/nanfunctions.py:1670: RuntimeWarning: Degrees of freedom <= 0 for slice.\n",
      "  var = nanvar(a, axis=axis, dtype=dtype, out=out, ddof=ddof,\n",
      "/Users/jesteves/Documents/GitHub/lsst-treeRing/spotgrid_butler_new.py:344: RuntimeWarning: Mean of empty slice\n",
      "  self.dyy_mean = np.nanmean(self.dyy_arr, axis=1)\n",
      "/Users/jesteves/Documents/GitHub/lsst-treeRing/spotgrid_butler_new.py:348: RuntimeWarning: Mean of empty slice\n",
      "  self.dxy_mean = np.nanmean(self.dxy_arr, axis=1)\n",
      "/Users/jesteves/Documents/GitHub/lsst-treeRing/spotgrid_butler_new.py:357: RuntimeWarning: Mean of empty slice\n",
      "  self.dFlux_med = np.nanmean(self.dFlux_arr, axis=1)\n"
     ]
    },
    {
     "name": "stdout",
     "output_type": "stream",
     "text": [
      "Computing filter spots for ITL tmp/R10_S11.\n",
      "repo: /sdf/group/lsst/camera/IandT/repo_gen3/BOT_data/butler.yaml\n",
      "--------------------------------------------------\n",
      "Repository        : /sdf/group/lsst/camera/IandT/repo_gen3/BOT_data/butler.yaml\n",
      "catalog collection: u/snyder18/spot_13237/gridfit_run1\n",
      "calib collection  : u/snyder18/spot_13237/gridcalibration\n",
      "Found tmp/R24_S11_x_arr.npy\n",
      "Found tmp/R24_S11_y_arr.npy\n",
      "Found tmp/R24_S11_xx_arr.npy\n",
      "Found tmp/R24_S11_xy_arr.npy\n",
      "Found tmp/R24_S11_yy_arr.npy\n",
      "Found tmp/R24_S11_dx_arr.npy\n",
      "Found tmp/R24_S11_dy_arr.npy\n",
      "Found tmp/R24_S11_dxx_arr.npy\n",
      "Found tmp/R24_S11_dyy_arr.npy\n",
      "Found tmp/R24_S11_dxy_arr.npy\n",
      "Found tmp/R24_S11_instFlux_arr.npy\n",
      "Found tmp/R24_S11_instFluxErr_arr.npy\n",
      "Found tmp/R24_S11_x_center_arr.npy\n",
      "Found tmp/R24_S11_y_center_arr.npy\n",
      "Found tmp/R24_S11_dFlux_arr.npy\n",
      "Found tmp/R24_S11_dg1_arr.npy\n",
      "Found tmp/R24_S11_dg2_arr.npy\n",
      "Loading data for e2v tmp/R24_S11.\n"
     ]
    },
    {
     "name": "stderr",
     "output_type": "stream",
     "text": [
      "WARNING: Input data contains invalid values (NaNs or infs), which were automatically clipped. [astropy.stats.sigma_clipping]\n"
     ]
    },
    {
     "name": "stdout",
     "output_type": "stream",
     "text": [
      "Computing statistics for e2v tmp/R24_S11.\n"
     ]
    },
    {
     "name": "stderr",
     "output_type": "stream",
     "text": [
      "/Users/jesteves/Documents/GitHub/lsst-treeRing/spotgrid_butler_new.py:340: RuntimeWarning: Mean of empty slice\n",
      "  self.dxx_mean = np.nanmean(self.dxx_arr, axis=1)\n",
      "/Users/jesteves/opt/anaconda3/lib/python3.9/site-packages/numpy/lib/nanfunctions.py:997: RuntimeWarning: All-NaN slice encountered\n",
      "  result = np.apply_along_axis(_nanmedian1d, axis, a, overwrite_input)\n",
      "/Users/jesteves/opt/anaconda3/lib/python3.9/site-packages/numpy/lib/nanfunctions.py:1670: RuntimeWarning: Degrees of freedom <= 0 for slice.\n",
      "  var = nanvar(a, axis=axis, dtype=dtype, out=out, ddof=ddof,\n",
      "/Users/jesteves/Documents/GitHub/lsst-treeRing/spotgrid_butler_new.py:344: RuntimeWarning: Mean of empty slice\n",
      "  self.dyy_mean = np.nanmean(self.dyy_arr, axis=1)\n",
      "/Users/jesteves/Documents/GitHub/lsst-treeRing/spotgrid_butler_new.py:348: RuntimeWarning: Mean of empty slice\n",
      "  self.dxy_mean = np.nanmean(self.dxy_arr, axis=1)\n",
      "/Users/jesteves/Documents/GitHub/lsst-treeRing/spotgrid_butler_new.py:357: RuntimeWarning: Mean of empty slice\n",
      "  self.dFlux_med = np.nanmean(self.dFlux_arr, axis=1)\n"
     ]
    },
    {
     "name": "stdout",
     "output_type": "stream",
     "text": [
      "Computing filter spots for e2v tmp/R24_S11.\n",
      "repo: /sdf/group/lsst/camera/IandT/repo_gen3/BOT_data/butler.yaml\n",
      "--------------------------------------------------\n",
      "Repository        : /sdf/group/lsst/camera/IandT/repo_gen3/BOT_data/butler.yaml\n",
      "catalog collection: u/snyder18/spot_13246/gridfit_run1\n",
      "calib collection  : u/snyder18/spot_13246/gridcalibration\n",
      "Found tmp/R32_S01_x_arr.npy\n",
      "Found tmp/R32_S01_y_arr.npy\n",
      "Found tmp/R32_S01_xx_arr.npy\n",
      "Found tmp/R32_S01_xy_arr.npy\n",
      "Found tmp/R32_S01_yy_arr.npy\n",
      "Found tmp/R32_S01_dx_arr.npy\n",
      "Found tmp/R32_S01_dy_arr.npy\n",
      "Found tmp/R32_S01_dxx_arr.npy\n",
      "Found tmp/R32_S01_dyy_arr.npy\n",
      "Found tmp/R32_S01_dxy_arr.npy\n",
      "Found tmp/R32_S01_instFlux_arr.npy\n",
      "Found tmp/R32_S01_instFluxErr_arr.npy\n",
      "Found tmp/R32_S01_x_center_arr.npy\n",
      "Found tmp/R32_S01_y_center_arr.npy\n",
      "Found tmp/R32_S01_dFlux_arr.npy\n",
      "Found tmp/R32_S01_dg1_arr.npy\n",
      "Found tmp/R32_S01_dg2_arr.npy\n",
      "Loading data for e2v tmp/R32_S01.\n"
     ]
    },
    {
     "name": "stderr",
     "output_type": "stream",
     "text": [
      "WARNING: Input data contains invalid values (NaNs or infs), which were automatically clipped. [astropy.stats.sigma_clipping]\n"
     ]
    },
    {
     "name": "stdout",
     "output_type": "stream",
     "text": [
      "Computing statistics for e2v tmp/R32_S01.\n"
     ]
    },
    {
     "name": "stderr",
     "output_type": "stream",
     "text": [
      "/Users/jesteves/Documents/GitHub/lsst-treeRing/spotgrid_butler_new.py:340: RuntimeWarning: Mean of empty slice\n",
      "  self.dxx_mean = np.nanmean(self.dxx_arr, axis=1)\n",
      "/Users/jesteves/opt/anaconda3/lib/python3.9/site-packages/numpy/lib/nanfunctions.py:997: RuntimeWarning: All-NaN slice encountered\n",
      "  result = np.apply_along_axis(_nanmedian1d, axis, a, overwrite_input)\n",
      "/Users/jesteves/opt/anaconda3/lib/python3.9/site-packages/numpy/lib/nanfunctions.py:1670: RuntimeWarning: Degrees of freedom <= 0 for slice.\n",
      "  var = nanvar(a, axis=axis, dtype=dtype, out=out, ddof=ddof,\n",
      "/Users/jesteves/Documents/GitHub/lsst-treeRing/spotgrid_butler_new.py:344: RuntimeWarning: Mean of empty slice\n",
      "  self.dyy_mean = np.nanmean(self.dyy_arr, axis=1)\n",
      "/Users/jesteves/Documents/GitHub/lsst-treeRing/spotgrid_butler_new.py:348: RuntimeWarning: Mean of empty slice\n",
      "  self.dxy_mean = np.nanmean(self.dxy_arr, axis=1)\n",
      "/Users/jesteves/Documents/GitHub/lsst-treeRing/spotgrid_butler_new.py:357: RuntimeWarning: Mean of empty slice\n",
      "  self.dFlux_med = np.nanmean(self.dFlux_arr, axis=1)\n"
     ]
    },
    {
     "name": "stdout",
     "output_type": "stream",
     "text": [
      "Computing filter spots for e2v tmp/R32_S01.\n",
      "repo: /sdf/group/lsst/camera/IandT/repo_gen3/spot_9raft/butler.yaml\n",
      "--------------------------------------------------\n",
      "Repository        : /sdf/group/lsst/camera/IandT/repo_gen3/spot_9raft/butler.yaml\n",
      "catalog collection: u/asnyder/spot/e2v_analysis\n",
      "calib collection  : u/asnyder/spot/e2v_calibration\n",
      "Found tmp/R22_S11_x_arr.npy\n",
      "Found tmp/R22_S11_y_arr.npy\n",
      "Found tmp/R22_S11_xx_arr.npy\n",
      "Found tmp/R22_S11_xy_arr.npy\n",
      "Found tmp/R22_S11_yy_arr.npy\n",
      "Found tmp/R22_S11_dx_arr.npy\n",
      "Found tmp/R22_S11_dy_arr.npy\n",
      "Found tmp/R22_S11_dxx_arr.npy\n",
      "Found tmp/R22_S11_dyy_arr.npy\n",
      "Found tmp/R22_S11_dxy_arr.npy\n",
      "Found tmp/R22_S11_instFlux_arr.npy\n",
      "Found tmp/R22_S11_instFluxErr_arr.npy\n",
      "Found tmp/R22_S11_x_center_arr.npy\n",
      "Found tmp/R22_S11_y_center_arr.npy\n",
      "Found tmp/R22_S11_dFlux_arr.npy\n",
      "Found tmp/R22_S11_dg1_arr.npy\n",
      "Found tmp/R22_S11_dg2_arr.npy\n",
      "Loading data for e2v tmp/R22_S11.\n"
     ]
    },
    {
     "name": "stderr",
     "output_type": "stream",
     "text": [
      "WARNING: Input data contains invalid values (NaNs or infs), which were automatically clipped. [astropy.stats.sigma_clipping]\n"
     ]
    },
    {
     "name": "stdout",
     "output_type": "stream",
     "text": [
      "Computing statistics for e2v tmp/R22_S11.\n"
     ]
    },
    {
     "name": "stderr",
     "output_type": "stream",
     "text": [
      "/Users/jesteves/Documents/GitHub/lsst-treeRing/spotgrid_butler_new.py:340: RuntimeWarning: Mean of empty slice\n",
      "  self.dxx_mean = np.nanmean(self.dxx_arr, axis=1)\n",
      "/Users/jesteves/opt/anaconda3/lib/python3.9/site-packages/numpy/lib/nanfunctions.py:997: RuntimeWarning: All-NaN slice encountered\n",
      "  result = np.apply_along_axis(_nanmedian1d, axis, a, overwrite_input)\n",
      "/Users/jesteves/opt/anaconda3/lib/python3.9/site-packages/numpy/lib/nanfunctions.py:1670: RuntimeWarning: Degrees of freedom <= 0 for slice.\n",
      "  var = nanvar(a, axis=axis, dtype=dtype, out=out, ddof=ddof,\n",
      "/Users/jesteves/Documents/GitHub/lsst-treeRing/spotgrid_butler_new.py:344: RuntimeWarning: Mean of empty slice\n",
      "  self.dyy_mean = np.nanmean(self.dyy_arr, axis=1)\n",
      "/Users/jesteves/Documents/GitHub/lsst-treeRing/spotgrid_butler_new.py:348: RuntimeWarning: Mean of empty slice\n",
      "  self.dxy_mean = np.nanmean(self.dxy_arr, axis=1)\n",
      "/Users/jesteves/Documents/GitHub/lsst-treeRing/spotgrid_butler_new.py:357: RuntimeWarning: Mean of empty slice\n",
      "  self.dFlux_med = np.nanmean(self.dFlux_arr, axis=1)\n"
     ]
    },
    {
     "name": "stdout",
     "output_type": "stream",
     "text": [
      "Computing filter spots for e2v tmp/R22_S11.\n",
      "repo: /sdf/group/lsst/camera/IandT/repo_gen3/spot_9raft/butler.yaml\n",
      "--------------------------------------------------\n",
      "Repository        : /sdf/group/lsst/camera/IandT/repo_gen3/spot_9raft/butler.yaml\n",
      "catalog collection: u/asnyder/spot/itl_analysis\n",
      "calib collection  : u/asnyder/spot/itl_calibration\n",
      "Found tmp/R02_S02_x_arr.npy\n",
      "Found tmp/R02_S02_y_arr.npy\n",
      "Found tmp/R02_S02_xx_arr.npy\n",
      "Found tmp/R02_S02_xy_arr.npy\n",
      "Found tmp/R02_S02_yy_arr.npy\n",
      "Found tmp/R02_S02_dx_arr.npy\n",
      "Found tmp/R02_S02_dy_arr.npy\n",
      "Found tmp/R02_S02_dxx_arr.npy\n",
      "Found tmp/R02_S02_dyy_arr.npy\n",
      "Found tmp/R02_S02_dxy_arr.npy\n",
      "Found tmp/R02_S02_instFlux_arr.npy\n",
      "Found tmp/R02_S02_instFluxErr_arr.npy\n",
      "Found tmp/R02_S02_x_center_arr.npy\n",
      "Found tmp/R02_S02_y_center_arr.npy\n",
      "Found tmp/R02_S02_dFlux_arr.npy\n",
      "Found tmp/R02_S02_dg1_arr.npy\n",
      "Found tmp/R02_S02_dg2_arr.npy\n",
      "Loading data for ITL tmp/R02_S02.\n"
     ]
    },
    {
     "name": "stderr",
     "output_type": "stream",
     "text": [
      "WARNING: Input data contains invalid values (NaNs or infs), which were automatically clipped. [astropy.stats.sigma_clipping]\n"
     ]
    },
    {
     "name": "stdout",
     "output_type": "stream",
     "text": [
      "Computing statistics for ITL tmp/R02_S02.\n"
     ]
    },
    {
     "name": "stderr",
     "output_type": "stream",
     "text": [
      "/Users/jesteves/Documents/GitHub/lsst-treeRing/spotgrid_butler_new.py:340: RuntimeWarning: Mean of empty slice\n",
      "  self.dxx_mean = np.nanmean(self.dxx_arr, axis=1)\n",
      "/Users/jesteves/opt/anaconda3/lib/python3.9/site-packages/numpy/lib/nanfunctions.py:997: RuntimeWarning: All-NaN slice encountered\n",
      "  result = np.apply_along_axis(_nanmedian1d, axis, a, overwrite_input)\n",
      "/Users/jesteves/opt/anaconda3/lib/python3.9/site-packages/numpy/lib/nanfunctions.py:1670: RuntimeWarning: Degrees of freedom <= 0 for slice.\n",
      "  var = nanvar(a, axis=axis, dtype=dtype, out=out, ddof=ddof,\n",
      "/Users/jesteves/Documents/GitHub/lsst-treeRing/spotgrid_butler_new.py:344: RuntimeWarning: Mean of empty slice\n",
      "  self.dyy_mean = np.nanmean(self.dyy_arr, axis=1)\n",
      "/Users/jesteves/Documents/GitHub/lsst-treeRing/spotgrid_butler_new.py:348: RuntimeWarning: Mean of empty slice\n",
      "  self.dxy_mean = np.nanmean(self.dxy_arr, axis=1)\n",
      "/Users/jesteves/Documents/GitHub/lsst-treeRing/spotgrid_butler_new.py:357: RuntimeWarning: Mean of empty slice\n",
      "  self.dFlux_med = np.nanmean(self.dFlux_arr, axis=1)\n"
     ]
    },
    {
     "name": "stdout",
     "output_type": "stream",
     "text": [
      "Computing filter spots for ITL tmp/R02_S02.\n"
     ]
    }
   ],
   "source": [
    "# sensors\n",
    "sensors = []\n",
    "for mysetting in setting:\n",
    "    sensor = SpotgridCatalog(*mysetting)\n",
    "\n",
    "    #asensor.get_calibration_table()\n",
    "    sensor.load_data()\n",
    "    sensor.correct_shaking()\n",
    "    sensor.compute_statistics()\n",
    "    sensor.filter_spots(value=.4)   # value=.4\n",
    "    sensor.compute_spotgrid()\n",
    "    sensor.calibrate()\n",
    "    \n",
    "    # new functions\n",
    "    sensor.compute_ellipticities()\n",
    "    sensor.get_imaging_map()    \n",
    "    sensor.transform_to_treeRing_coords()\n",
    "    \n",
    "    sensors.append(sensor)"
   ]
  },
  {
   "cell_type": "markdown",
   "id": "ffbee7be",
   "metadata": {
    "ExecuteTime": {
     "end_time": "2022-08-31T01:55:08.386362Z",
     "start_time": "2022-08-31T01:55:08.346609Z"
    }
   },
   "source": [
    "If the correction_shaking function is not applied the results are not correct.\n"
   ]
  },
  {
   "cell_type": "markdown",
   "id": "030a4024",
   "metadata": {},
   "source": [
    "## Distortion Maps"
   ]
  },
  {
   "cell_type": "code",
   "execution_count": 6,
   "id": "90ca6204",
   "metadata": {
    "ExecuteTime": {
     "end_time": "2022-12-26T18:57:45.498529Z",
     "start_time": "2022-12-26T18:57:44.621849Z"
    }
   },
   "outputs": [],
   "source": [
    "import tree_ring_helper as tr\n",
    "\n",
    "keys1 = {\n",
    "        'flux':['abs','Flux-Ratio','perc. deviation [\\%]', 100.],\n",
    "        'psf-size':['abs','PSF-Size: $\\delta T = \\delta I_{xx}+ \\delta I_{yy}$','perc. deviation [\\%]',100.],\n",
    "        'pos-x':['x','Position: $\\delta x$','[pixels]',1.],\n",
    "        'pos-y':['y','Position: $\\delta y$','[pixels]',1.],\n",
    "        'shape-x':['x','Shape: $\\delta e_1$','perc. deviation [\\%]',100.],\n",
    "        'shape-y':['y','Shape: $\\delta e_2$','perc. deviation [\\%]',100.],\n",
    "       }\n",
    "\n",
    "def component_map(shortcut):\n",
    "    res = {\n",
    "           'flux':'flux-ratio','psf-size':'psf-size',\n",
    "           'pos-x':'astrometric-shift','pos-y':'astrometric-shift',\n",
    "           'shape-x':'ellipticity','shape-y':'ellipticity',\n",
    "          }\n",
    "    return res[shortcut]"
   ]
  },
  {
   "cell_type": "code",
   "execution_count": null,
   "id": "ad7f8b4e",
   "metadata": {
    "ExecuteTime": {
     "start_time": "2022-12-26T19:24:31.862Z"
    }
   },
   "outputs": [
    {
     "name": "stdout",
     "output_type": "stream",
     "text": [
      "Variable: flux\n",
      "Sensor Bay: R03_S12\n",
      "Welcome to Tree Ring Tools\n"
     ]
    },
    {
     "name": "stderr",
     "output_type": "stream",
     "text": [
      "/Users/jesteves/opt/anaconda3/lib/python3.9/site-packages/scipy/stats/_continuous_distns.py:386: RuntimeWarning: Mean of empty slice.\n",
      "  loc = data.mean()\n",
      "/Users/jesteves/opt/anaconda3/lib/python3.9/site-packages/numpy/core/_methods.py:189: RuntimeWarning: invalid value encountered in double_scalars\n",
      "  ret = ret.dtype.type(ret / rcount)\n",
      "/Users/jesteves/opt/anaconda3/lib/python3.9/site-packages/scipy/stats/_continuous_distns.py:391: RuntimeWarning: Mean of empty slice.\n",
      "  scale = np.sqrt(((data - loc)**2).mean())\n"
     ]
    },
    {
     "name": "stdout",
     "output_type": "stream",
     "text": [
      "\n",
      "\n",
      "Sensor Bay: R10_S11\n",
      "Welcome to Tree Ring Tools\n"
     ]
    },
    {
     "name": "stderr",
     "output_type": "stream",
     "text": [
      "/Users/jesteves/opt/anaconda3/lib/python3.9/site-packages/scipy/stats/_continuous_distns.py:386: RuntimeWarning: Mean of empty slice.\n",
      "  loc = data.mean()\n",
      "/Users/jesteves/opt/anaconda3/lib/python3.9/site-packages/numpy/core/_methods.py:189: RuntimeWarning: invalid value encountered in double_scalars\n",
      "  ret = ret.dtype.type(ret / rcount)\n",
      "/Users/jesteves/opt/anaconda3/lib/python3.9/site-packages/scipy/stats/_continuous_distns.py:391: RuntimeWarning: Mean of empty slice.\n",
      "  scale = np.sqrt(((data - loc)**2).mean())\n"
     ]
    },
    {
     "name": "stdout",
     "output_type": "stream",
     "text": [
      "\n",
      "\n",
      "Sensor Bay: R24_S11\n",
      "Welcome to Tree Ring Tools\n",
      "\n",
      "\n",
      "Sensor Bay: R32_S01\n",
      "Welcome to Tree Ring Tools\n",
      "\n",
      "\n",
      "Sensor Bay: R22_S11\n",
      "Welcome to Tree Ring Tools\n",
      "\n",
      "\n",
      "Sensor Bay: R02_S02\n",
      "Welcome to Tree Ring Tools\n",
      "\n",
      "\n",
      "Variable: psf-size\n",
      "Sensor Bay: R03_S12\n",
      "Welcome to Tree Ring Tools\n",
      "\n",
      "\n",
      "Sensor Bay: R10_S11\n",
      "Welcome to Tree Ring Tools\n",
      "\n",
      "\n",
      "Sensor Bay: R24_S11\n",
      "Welcome to Tree Ring Tools\n",
      "\n",
      "\n",
      "Sensor Bay: R32_S01\n",
      "Welcome to Tree Ring Tools\n",
      "\n",
      "\n",
      "Sensor Bay: R22_S11\n",
      "Welcome to Tree Ring Tools\n",
      "\n",
      "\n",
      "Sensor Bay: R02_S02\n",
      "Welcome to Tree Ring Tools\n",
      "\n",
      "\n",
      "Variable: pos-x\n",
      "Sensor Bay: R03_S12\n",
      "Welcome to Tree Ring Tools\n",
      "\n",
      "\n",
      "Sensor Bay: R10_S11\n",
      "Welcome to Tree Ring Tools\n",
      "\n",
      "\n",
      "Sensor Bay: R24_S11\n",
      "Welcome to Tree Ring Tools\n",
      "\n",
      "\n",
      "Sensor Bay: R32_S01\n",
      "Welcome to Tree Ring Tools\n",
      "\n",
      "\n",
      "Sensor Bay: R22_S11\n",
      "Welcome to Tree Ring Tools\n",
      "\n",
      "\n",
      "Sensor Bay: R02_S02\n",
      "Welcome to Tree Ring Tools\n",
      "\n",
      "\n",
      "Variable: pos-y\n",
      "Sensor Bay: R03_S12\n",
      "Welcome to Tree Ring Tools\n",
      "\n",
      "\n",
      "Sensor Bay: R10_S11\n",
      "Welcome to Tree Ring Tools\n",
      "\n",
      "\n",
      "Sensor Bay: R24_S11\n",
      "Welcome to Tree Ring Tools\n",
      "\n",
      "\n",
      "Sensor Bay: R32_S01\n",
      "Welcome to Tree Ring Tools\n",
      "\n",
      "\n",
      "Sensor Bay: R22_S11\n",
      "Welcome to Tree Ring Tools\n",
      "\n",
      "\n",
      "Sensor Bay: R02_S02\n",
      "Welcome to Tree Ring Tools\n",
      "\n",
      "\n",
      "Variable: shape-x\n",
      "Sensor Bay: R03_S12\n",
      "Welcome to Tree Ring Tools\n",
      "\n",
      "\n",
      "Sensor Bay: R10_S11\n",
      "Welcome to Tree Ring Tools\n",
      "\n",
      "\n",
      "Sensor Bay: R24_S11\n",
      "Welcome to Tree Ring Tools\n",
      "\n",
      "\n",
      "Sensor Bay: R32_S01\n",
      "Welcome to Tree Ring Tools\n",
      "\n",
      "\n",
      "Sensor Bay: R22_S11\n",
      "Welcome to Tree Ring Tools\n",
      "\n",
      "\n",
      "Sensor Bay: R02_S02\n",
      "Welcome to Tree Ring Tools\n",
      "\n",
      "\n",
      "Variable: shape-y\n",
      "Sensor Bay: R03_S12\n",
      "Welcome to Tree Ring Tools\n",
      "\n",
      "\n",
      "Sensor Bay: R10_S11\n",
      "Welcome to Tree Ring Tools\n",
      "\n",
      "\n",
      "Sensor Bay: R24_S11\n",
      "Welcome to Tree Ring Tools\n",
      "\n",
      "\n",
      "Sensor Bay: R32_S01\n",
      "Welcome to Tree Ring Tools\n"
     ]
    }
   ],
   "source": [
    "# # IT MAY TAKE SOME TIME TO RUN THIS CELL\n",
    "\n",
    "# ## Generate Tree Ring Profiles\n",
    "figure1 = {}\n",
    "\n",
    "for variable in keys1.keys():\n",
    "    print('Variable: %s'%variable)\n",
    "    component = keys1[variable][0]\n",
    "    ylabel = keys1[variable][1]\n",
    "    strech = keys1[variable][3]\n",
    "    rings = []\n",
    "    \n",
    "    for sensor in sensors:\n",
    "        print('Sensor Bay: %s'%(sensor.sensorbay))\n",
    "        ring = tr.tree_ring_tools(sensor)\n",
    "        ring.make_image(component_map(variable), component, fradius=None)\n",
    "        \n",
    "        ring.apply_strech(strech)\n",
    "        ring.img = ring._resize(ring.img)\n",
    "        #ring.apply_high_freq_filter(use_zero=False)\n",
    "        #ring.apply_gaussian_filter(downscale=4)\n",
    "        #ring.apply_mask()\n",
    "\n",
    "        #ring.make_polar_transformation(theta_cut=[100, 250])\n",
    "        #ring.compute_signal()\n",
    "        #ring.make_profile(ring.diff2,step=1)\n",
    "        #ring.save_profile(variable)\n",
    "        rings.append(ring)\n",
    "        print('\\n')\n",
    "    figure1[variable] = rings"
   ]
  },
  {
   "cell_type": "code",
   "execution_count": null,
   "id": "5bb5beb7",
   "metadata": {
    "ExecuteTime": {
     "start_time": "2022-12-26T19:24:46.001Z"
    }
   },
   "outputs": [],
   "source": [
    "def imshow(image,axes,title='',show_colorbar=False,levels=[-0.015,0.015]):\n",
    "    im0 = axes.imshow(image,origin='lower',vmin=levels[0],vmax=levels[1], cmap='viridis')\n",
    "    axes.tick_params(axis='x', labelsize=12)\n",
    "    axes.tick_params(axis='y', labelsize=12)\n",
    "    axes.set_aspect('equal')\n",
    "    axes.set_title(title)\n",
    "    if show_colorbar: return im0"
   ]
  },
  {
   "cell_type": "code",
   "execution_count": null,
   "id": "ee9fa648",
   "metadata": {
    "ExecuteTime": {
     "start_time": "2022-12-26T19:24:46.331Z"
    }
   },
   "outputs": [],
   "source": [
    "import datetime\n",
    "from matplotlib.backends.backend_pdf import PdfPages\n",
    "\n",
    "def make_plot_figure1(ix, highPassFilter=False):\n",
    "    fig, axes = plt.subplots(2, 3, figsize=(14, 8))\n",
    "    #axes = axes.flatten()\n",
    "    \n",
    "    variables = ['flux','pos-x','shape-x',\n",
    "                 'psf-size','pos-y','shape-y']\n",
    "    count=0\n",
    "    for i in range(2):\n",
    "        for j in range(3):\n",
    "            variable = variables[count]\n",
    "            rings = figure1[variable]\n",
    "            ring = rings[ix]\n",
    "            if not highPassFilter:\n",
    "                img = ring.img\n",
    "            else:\n",
    "                img = ring.diff\n",
    "                                \n",
    "            l1, l2 = get_lim_img(img)\n",
    "            im = imshow(ring.img,axes[i,j],title=keys1[variable][1],\n",
    "                        levels=[l1,l2],show_colorbar=True)\n",
    "            \n",
    "            if i>0:\n",
    "                axes[i,j].set_xlabel('X position [pixels]', fontsize=15)\n",
    "            if j==0:\n",
    "                axes[i,j].set_ylabel('Y position [pixels]', fontsize=15)\n",
    "\n",
    "    \n",
    "            fig.colorbar(im, ax=axes[i,j], shrink=0.9).set_label(keys1[variable][2])    \n",
    "            fig.suptitle(f'Sensor: {ring.sensorbay}')\n",
    "            count+=1\n",
    "            \n",
    "    fig.tight_layout()\n",
    "    return fig\n",
    "        \n",
    "def get_lim_img(x):\n",
    "    xflat = x.flatten()\n",
    "    lo, up = np.nanpercentile(xflat, [8, 92])\n",
    "    return lo, up"
   ]
  },
  {
   "cell_type": "code",
   "execution_count": null,
   "id": "0de8f3f1",
   "metadata": {
    "ExecuteTime": {
     "start_time": "2022-12-26T19:24:46.903Z"
    },
    "scrolled": false
   },
   "outputs": [],
   "source": [
    "## plot square\n",
    "with PdfPages('./figures/Figure1.pdf') as pdf:\n",
    "    for ix in range(len(rings)):\n",
    "        make_plot_figure1(ix)\n",
    "        pdf.savefig()\n",
    "        \n",
    "# saveFig(fig, './figures/Figure1')"
   ]
  },
  {
   "cell_type": "markdown",
   "id": "4a375682",
   "metadata": {},
   "source": [
    "I choose two figures as an example for each sensor."
   ]
  },
  {
   "cell_type": "code",
   "execution_count": null,
   "id": "48b7647a",
   "metadata": {
    "ExecuteTime": {
     "start_time": "2022-12-26T19:24:48.791Z"
    }
   },
   "outputs": [],
   "source": [
    "fig = make_plot_figure1(1)\n",
    "saveFig(fig, './figures/Figure1_a.pdf')"
   ]
  },
  {
   "cell_type": "code",
   "execution_count": null,
   "id": "ddfa021d",
   "metadata": {
    "ExecuteTime": {
     "start_time": "2022-12-26T19:24:49.081Z"
    }
   },
   "outputs": [],
   "source": [
    "fig = make_plot_figure1(3)\n",
    "saveFig(fig, './figures/Figure1_b.pdf')"
   ]
  },
  {
   "cell_type": "code",
   "execution_count": null,
   "id": "042c5dfd",
   "metadata": {},
   "outputs": [],
   "source": []
  }
 ],
 "metadata": {
  "kernelspec": {
   "display_name": "Python 3 (ipykernel)",
   "language": "python",
   "name": "python3"
  },
  "language_info": {
   "codemirror_mode": {
    "name": "ipython",
    "version": 3
   },
   "file_extension": ".py",
   "mimetype": "text/x-python",
   "name": "python",
   "nbconvert_exporter": "python",
   "pygments_lexer": "ipython3",
   "version": "3.9.13"
  },
  "latex_envs": {
   "LaTeX_envs_menu_present": true,
   "autoclose": true,
   "autocomplete": true,
   "bibliofile": "biblio.bib",
   "cite_by": "apalike",
   "current_citInitial": 1,
   "eqLabelWithNumbers": true,
   "eqNumInitial": 1,
   "hotkeys": {
    "equation": "Ctrl-E",
    "itemize": "Ctrl-I"
   },
   "labels_anchors": false,
   "latex_user_defs": false,
   "report_style_numbering": true,
   "user_envs_cfg": false
  },
  "toc": {
   "base_numbering": "1",
   "nav_menu": {},
   "number_sections": true,
   "sideBar": true,
   "skip_h1_title": true,
   "title_cell": "Table of Contents",
   "title_sidebar": "Contents",
   "toc_cell": false,
   "toc_position": {},
   "toc_section_display": true,
   "toc_window_display": true
  }
 },
 "nbformat": 4,
 "nbformat_minor": 5
}
