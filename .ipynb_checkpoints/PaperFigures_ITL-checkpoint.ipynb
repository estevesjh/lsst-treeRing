{
 "cells": [
  {
   "cell_type": "markdown",
   "id": "61a40b5d",
   "metadata": {},
   "source": [
    "# Tree Ring Analysis: Comparasion\n",
    "\n",
    "Author: Johnny Esteves, University Of Michigan\n",
    "\n",
    "### Description\n",
    "Here we compare tree ring signal (second moments and astro. shift) with the flat field signal."
   ]
  },
  {
   "cell_type": "code",
   "execution_count": null,
   "id": "fbbcbd31",
   "metadata": {},
   "outputs": [],
   "source": []
  },
  {
   "cell_type": "code",
   "execution_count": 1,
   "id": "0c84eea0",
   "metadata": {},
   "outputs": [],
   "source": [
    "%reset -f\n",
    "%matplotlib inline\n",
    "%load_ext autoreload\n",
    "%autoreload 2\n",
    "\n",
    "import matplotlib.pyplot as plt\n",
    "plt.rc('image', interpolation='bicubic', origin='lower', cmap = 'viridis')\n",
    "plt.rcParams[\"axes.formatter.useoffset\"] = False\n",
    "plt.rcParams['figure.figsize'] = [14.0, 10.0]\n",
    "plt.rcParams['font.size'] = 16\n",
    "rcParams = plt.rcParams.copy()\n",
    "\n",
    "import matplotlib\n",
    "matplotlib.rcParams['mathtext.fontset'] = 'stix'\n",
    "matplotlib.rcParams['font.family'] = 'STIXGeneral'\n",
    "\n",
    "import posixpath, datetime, sys\n",
    "import cv2\n",
    "\n",
    "from scipy.stats import binned_statistic_2d, binned_statistic\n",
    "from skimage.measure import block_reduce\n",
    "from skimage.util import view_as_blocks\n",
    "from scipy.ndimage.filters import gaussian_filter\n",
    "import scipy.optimize as opt\n",
    "\n",
    "#\n",
    "from scipy.signal import butter, sosfilt"
   ]
  },
  {
   "cell_type": "code",
   "execution_count": 2,
   "id": "52aabdaa",
   "metadata": {},
   "outputs": [],
   "source": [
    "import os\n",
    "import glob\n",
    "import numpy as np\n",
    "import fitsio as fits\n",
    "import matplotlib.pyplot as plt\n"
   ]
  },
  {
   "cell_type": "markdown",
   "id": "e05ffca2",
   "metadata": {},
   "source": [
    "# Load Data\n",
    "\n",
    "Retrieving files path from BUTLER.\n",
    "\n",
    "In specific, for loading the results after the corrections made on the mixcoatl code by Alex I use the repo_path used `/sdf/group/lsst/camera/IandT/repo_gen3/spot_9raft/butler.yaml` and the collection `u/youtsumi/spot/AlexRecommendation`.\n"
   ]
  },
  {
   "cell_type": "markdown",
   "id": "ac70c3ef",
   "metadata": {},
   "source": [
    "### Initialize the `spotgrid.py` code"
   ]
  },
  {
   "cell_type": "code",
   "execution_count": 3,
   "id": "728c901f",
   "metadata": {},
   "outputs": [],
   "source": [
    "import sys\n",
    "sys.path.append('/gpfs/slac/kipac/fs1/u/esteves/codes/TreeRing/')\n",
    "from spotgrid_butler import SpotgridCatalog"
   ]
  },
  {
   "cell_type": "code",
   "execution_count": null,
   "id": "33d61b46",
   "metadata": {},
   "outputs": [],
   "source": []
  },
  {
   "cell_type": "code",
   "execution_count": 5,
   "id": "e49c2889",
   "metadata": {},
   "outputs": [
    {
     "name": "stdout",
     "output_type": "stream",
     "text": [
      "Repository        : /sdf/group/lsst/camera/IandT/repo_gen3/spot_9raft/butler.yaml\n",
      "catalog collection: u/asnyder/spot/itl_analysis\n",
      "calib collection  : u/asnyder/spot/itl_calibration\n",
      "\n",
      "\n"
     ]
    }
   ],
   "source": [
    "repo = '/sdf/group/lsst/camera/IandT/repo_gen3/spot_9raft/butler.yaml'\n",
    "itl = SpotgridCatalog(repo,\n",
    "                      'u/asnyder/spot/itl_analysis',\n",
    "                      'u/asnyder/spot/itl_calibration',sensor='ITL')"
   ]
  },
  {
   "cell_type": "code",
   "execution_count": 6,
   "id": "8550be09",
   "metadata": {},
   "outputs": [
    {
     "name": "stdout",
     "output_type": "stream",
     "text": [
      "Found tmp/r02_s02_x_arr.npy\n",
      "Found tmp/r02_s02_y_arr.npy\n",
      "Found tmp/r02_s02_xx_arr.npy\n",
      "Found tmp/r02_s02_xy_arr.npy\n",
      "Found tmp/r02_s02_yy_arr.npy\n",
      "Found tmp/r02_s02_dx_arr.npy\n",
      "Found tmp/r02_s02_dy_arr.npy\n",
      "Found tmp/r02_s02_dxx_arr.npy\n",
      "Found tmp/r02_s02_dyy_arr.npy\n",
      "Found tmp/r02_s02_dxy_arr.npy\n",
      "Found tmp/r02_s02_instFlux_arr.npy\n",
      "Found tmp/r02_s02_instFluxErr_arr.npy\n",
      "Found tmp/r02_s02_x_center_arr.npy\n",
      "Found tmp/r02_s02_y_center_arr.npy\n",
      "Found tmp/r02_s02_dFlux_arr.npy\n",
      "Found tmp/r02_s02_dg1_arr.npy\n",
      "Found tmp/r02_s02_dg2_arr.npy\n",
      "Loading data for ITL tmp/r02_s02.\n",
      "Computing statistics for ITL tmp/r02_s02.\n",
      "Computing filter spots for ITL tmp/r02_s02.\n"
     ]
    }
   ],
   "source": [
    "itl.get_calibration_table()\n",
    "itl.load_data()\n",
    "itl.compute_statistics()\n",
    "itl.compute_spotgrid()\n",
    "itl.filter_spots()\n",
    "itl.calibrate()"
   ]
  },
  {
   "cell_type": "code",
   "execution_count": null,
   "id": "5c53f80c",
   "metadata": {},
   "outputs": [],
   "source": []
  },
  {
   "cell_type": "markdown",
   "id": "1efa999b",
   "metadata": {},
   "source": [
    "## Polar Transformation"
   ]
  },
  {
   "cell_type": "code",
   "execution_count": 7,
   "id": "ab7da076",
   "metadata": {},
   "outputs": [],
   "source": [
    "from tree_ring_helper import *"
   ]
  },
  {
   "cell_type": "code",
   "execution_count": 8,
   "id": "781c596e",
   "metadata": {
    "scrolled": true
   },
   "outputs": [],
   "source": [
    "#help(tree_ring_tools)"
   ]
  },
  {
   "cell_type": "code",
   "execution_count": 9,
   "id": "b36e6152",
   "metadata": {},
   "outputs": [],
   "source": [
    "#centers = [[4320,-280],[-156,-280],[4320,4180],[-156,4180]]\n",
    "#centers = [[-310, 4086.36],[-156,-280],[4320,4180],[4439.24, -434.62]]\n",
    "centers = [[-335.49, 4095.84],[-156,-280],[4320,4180],[4627.47, -630.89]]\n",
    "\n",
    "sensor_lims = {'e2v':[[0,4096],[0,4004]],'ITL':[[0,4072],[0,4000]]}"
   ]
  },
  {
   "cell_type": "code",
   "execution_count": 10,
   "id": "fed05b65",
   "metadata": {},
   "outputs": [],
   "source": [
    "def proj_to_polar_coord(t,vx,vy):\n",
    "    vr = np.cos(t)*vx + np.sin(t)*vy\n",
    "    vt = -np.sin(t)*vx+ np.cos(t)*vy\n",
    "    return vr, vt\n",
    "\n",
    "def proj_to_polar_coord_spin2(t,vx,vy):\n",
    "    vr = np.cos(2*t)*vx + np.sin(2*t)*vy\n",
    "    vt = np.sin(2*t)*vx - np.cos(2*t)*vy\n",
    "    return vr, vt\n",
    "\n",
    "def trasnform_to_polar_coord(x,y,x0=0.,y0=0.,deg=False):\n",
    "    r = np.hypot((x-x0),(y-y0))\n",
    "    t = np.arctan2((y-y0),(x-x0))\n",
    "    \n",
    "    if deg: t *= (180 / np.pi)\n",
    "    return r,t"
   ]
  },
  {
   "cell_type": "code",
   "execution_count": 12,
   "id": "4a4c1389",
   "metadata": {},
   "outputs": [],
   "source": [
    "xc,yc = centers[0]\n",
    "r, t = trasnform_to_polar_coord(itl.xfltr_flat,itl.yfltr_flat, x0=xc, y0=yc)\n",
    "\n",
    "dr,dt= proj_to_polar_coord(t,itl.dX,itl.dY)\n",
    "dgr,dgt= proj_to_polar_coord_spin2(t,itl.dg1,itl.dg2)\n",
    "\n",
    "itl.dR = dr\n",
    "itl.dt = dt\n",
    "\n",
    "itl.dgr= dgr\n",
    "itl.dgt= dgt"
   ]
  },
  {
   "cell_type": "code",
   "execution_count": null,
   "id": "bdd267c6",
   "metadata": {},
   "outputs": [],
   "source": []
  },
  {
   "cell_type": "code",
   "execution_count": 13,
   "id": "4a6e1f90",
   "metadata": {},
   "outputs": [],
   "source": [
    "sensor_lims = {'e2v':[[0,4096],[0,4004]],'ITL':[[0,4072],[0,4000]]}\n",
    "\n",
    "def generate_image(self,var,MAX=0.07,fradius=140,sensor='e2v'):\n",
    "    \n",
    "    nanmask = np.isfinite(self.deltaXX) #masks all the NaN entries created when a catalog didn't have 2401 entries\n",
    "    xxfltr_flat = self.xxfltr[nanmask].flatten()\n",
    "    yyfltr_flat = self.yyfltr[nanmask].flatten()\n",
    "\n",
    "    dmap = {'dT':self.dT/(xxfltr_flat+yyfltr_flat),'dXX':self.dXX/(xxfltr_flat),'dYY':self.dYY/(yyfltr_flat),'dXY':self.dXY,\n",
    "            'dX':self.dX,'dY':self.dY,'dg1':self.dg1,'dg2':self.dg2,'dF':self.deltaF,\n",
    "            'dr':self.dR,'dtheta':self.dt,'dgr':self.dgr,'dgt':self.dgt}\n",
    "    \n",
    "    nbins = 400\n",
    "    bins = [407,400] #approx. 10x10 px^2 binning\n",
    "    dT_mean, x_edge, y_edge, binidx = binned_statistic_2d(self.xfltr_flat, self.yfltr_flat, dmap[var], 'mean',\n",
    "                                                          range=sensor_lims[sensor], bins=bins)\n",
    "                                                          #mean is significantly faster calculation\n",
    "    \n",
    "    ## cut borders\n",
    "    mask    = mask_borders(self,x_edge,y_edge,dT_mean,MAX=MAX,fradius=fradius)\n",
    "    \n",
    "    ## sensor max limits\n",
    "    xmax = sensor_lims[self.sensor][0][1]\n",
    "    ymax = sensor_lims[self.sensor][1][1]\n",
    "    \n",
    "    ## resize image\n",
    "    resized     = cv2.resize(dT_mean.T,(xmax,ymax), interpolation = cv2.INTER_AREA)\n",
    "    resized_cut = cv2.resize(mask.T   ,(xmax,ymax), interpolation = cv2.INTER_AREA)\n",
    "    \n",
    "    return dT_mean,resized,resized_cut"
   ]
  },
  {
   "cell_type": "code",
   "execution_count": null,
   "id": "c4cd83df",
   "metadata": {},
   "outputs": [],
   "source": []
  },
  {
   "cell_type": "markdown",
   "id": "a3c7a97f",
   "metadata": {},
   "source": [
    "## Visualize the dataset"
   ]
  },
  {
   "cell_type": "code",
   "execution_count": 14,
   "id": "9d32d098",
   "metadata": {},
   "outputs": [],
   "source": [
    "## choose the sensor\n",
    "\n",
    "self = itl\n",
    "\n",
    "title  = 'ITL: R02 S02'\n",
    "ylabel = 'dev. from the mean [pixel]'"
   ]
  },
  {
   "cell_type": "code",
   "execution_count": 15,
   "id": "883aff13",
   "metadata": {},
   "outputs": [],
   "source": [
    "#e2v=0\n",
    "#itl=0"
   ]
  },
  {
   "cell_type": "markdown",
   "id": "cdadb0c8",
   "metadata": {},
   "source": [
    "# Figure 1 - Astrometric Shift, Second Moments and Ellipticity Maps"
   ]
  },
  {
   "cell_type": "code",
   "execution_count": 16,
   "id": "660797ad",
   "metadata": {},
   "outputs": [],
   "source": [
    "_,_,dr_img =  generate_image(self,'dr' ,fradius=150)\n",
    "_,_,dt_img =  generate_image(self,'dT' ,fradius=150)\n",
    "_,_,dg_img =  generate_image(self,'dgr',fradius=150)\n",
    "\n",
    "\n",
    "dr_img1 = apply_filter(dr_img, 250, power=4)\n",
    "dt_img1 = apply_filter(dt_img, 250, power=4)\n",
    "dg_img1 = apply_filter(dg_img, 250, power=4)"
   ]
  },
  {
   "cell_type": "code",
   "execution_count": null,
   "id": "3aac9709",
   "metadata": {},
   "outputs": [],
   "source": [
    "_,_,dxx_img =  generate_image(self,'dXX' ,fradius=150)\n",
    "_,_,dyy_img =  generate_image(self,'dYY' ,fradius=150)\n",
    "\n",
    "_,_,dx_img =  generate_image(self,'dX' ,fradius=150)\n",
    "_,_,dy_img =  generate_image(self,'dY' ,fradius=150)\n",
    "\n",
    "_,_,dg1_img =  generate_image(self,'dg1' ,fradius=150)\n",
    "_,_,dg2_img =  generate_image(self,'dg2' ,fradius=150)\n",
    "\n",
    "dxx_img1 = apply_filter(dxx_img, 250, power=4)\n",
    "dyy_img1 = apply_filter(dyy_img, 250, power=4)\n",
    "\n",
    "dx_img1  = apply_filter(dx_img, 250, power=4)\n",
    "dy_img1  = apply_filter(dy_img, 250, power=4)\n",
    "\n",
    "dg1_img1 = apply_filter(dg1_img, 250, power=4)\n",
    "dg2_img1 = apply_filter(dg2_img, 250, power=4)"
   ]
  },
  {
   "cell_type": "code",
   "execution_count": null,
   "id": "2d372a3d",
   "metadata": {},
   "outputs": [],
   "source": []
  },
  {
   "cell_type": "code",
   "execution_count": null,
   "id": "c4767174",
   "metadata": {},
   "outputs": [],
   "source": [
    "def imshow(image,axes,title='',show_colorbar=False,levels=[-0.015,0.015]):\n",
    "    im0 = axes.imshow(image,origin='lower',vmin=levels[0],vmax=levels[1], cmap='viridis')\n",
    "    axes.set_xlabel('X position [pixels]', fontsize=15)\n",
    "    axes.set_ylabel('Y position [pixels]', fontsize=15)\n",
    "    axes.tick_params(axis='x', labelsize=12)\n",
    "    axes.tick_params(axis='y', labelsize=12)\n",
    "    axes.set_aspect('equal')\n",
    "    axes.set_title(title)\n",
    "    if show_colorbar: return im0"
   ]
  },
  {
   "cell_type": "code",
   "execution_count": null,
   "id": "2a416a0a",
   "metadata": {},
   "outputs": [],
   "source": [
    "fig, axes = plt.subplots(1, 3, figsize=(18, 6), sharey='all')\n",
    "\n",
    "levels = np.array([-0.0045,0.0045])\n",
    "im1 = imshow(dr_img1 ,axes[0],title='Astrometric Shift',levels=levels*1., show_colorbar=True)\n",
    "im2 = imshow(100.*dt_img1 ,axes[1],title='Second Moments'   ,levels=levels*10., show_colorbar=True)\n",
    "im3 = imshow(100.*dg_img1 ,axes[2],title='Ellipticity'      ,levels=levels*10., show_colorbar=True)\n",
    "\n",
    "fig.colorbar(im1,ax=axes[0] ,shrink=0.75).set_label(r'mean dev. [pixel]', fontsize=18)\n",
    "fig.colorbar(im2,ax=axes[1] ,shrink=0.75).set_label(r'perc dev. %', fontsize=18)\n",
    "fig.colorbar(im3,ax=axes[2] ,shrink=0.75).set_label(r'perc dev. %', fontsize=18)\n",
    "\n",
    "for i in range(1,3):\n",
    "    axes[i].set_ylabel('')\n",
    "\n",
    "fig.subplots_adjust(wspace=0.20)\n",
    "#fig.savefig('figures/fig_1_map_astroShift_secMoments_ellipticity.pdf', dpi=240, format='pdf', bbox_inches='tight')\n",
    "# plt.suptitle(title)\n",
    "#plt.clf()"
   ]
  },
  {
   "cell_type": "code",
   "execution_count": null,
   "id": "492d371a",
   "metadata": {},
   "outputs": [],
   "source": []
  },
  {
   "cell_type": "code",
   "execution_count": null,
   "id": "6531b13c",
   "metadata": {},
   "outputs": [],
   "source": [
    "fig, axes = plt.subplots(1, 3, figsize=(18, 6), sharey='all')\n",
    "\n",
    "levels = np.array([-0.0045,0.0045])\n",
    "im1 = imshow(dr_img, axes[0], title='Astrometric Shift',levels=levels*1., show_colorbar=True)\n",
    "im2 = imshow(100.*dt_img, axes[1], title='Second Moments'   ,levels=levels*10., show_colorbar=True)\n",
    "im3 = imshow(100.*dg_img, axes[2], title='Ellipticity'      ,levels=levels*10., show_colorbar=True)\n",
    "\n",
    "fig.colorbar(im1,ax=axes[0] ,shrink=0.75).set_label(r'mean dev. [pixel]', fontsize=18)\n",
    "fig.colorbar(im2,ax=axes[1] ,shrink=0.75).set_label(r'perc dev. %', fontsize=18)\n",
    "fig.colorbar(im3,ax=axes[2] ,shrink=0.75).set_label(r'perc dev. %', fontsize=18)\n",
    "\n",
    "for i in range(1,3):\n",
    "    axes[i].set_ylabel('')\n",
    "\n",
    "fig.subplots_adjust(wspace=0.20)\n",
    "#fig.savefig('figures/fig_1_map_astroShift_secMoments_ellipticity.pdf', dpi=240, format='pdf', bbox_inches='tight')\n",
    "# plt.suptitle(title)\n",
    "#plt.clf()"
   ]
  },
  {
   "cell_type": "code",
   "execution_count": null,
   "id": "09cc4f1a",
   "metadata": {},
   "outputs": [],
   "source": []
  },
  {
   "cell_type": "markdown",
   "id": "3e5318ae",
   "metadata": {},
   "source": [
    "# Figure 2 - Signal Profiles"
   ]
  },
  {
   "cell_type": "code",
   "execution_count": null,
   "id": "69e8bac0",
   "metadata": {},
   "outputs": [],
   "source": [
    "image = dt_img1"
   ]
  },
  {
   "cell_type": "code",
   "execution_count": null,
   "id": "28076d91",
   "metadata": {},
   "outputs": [],
   "source": [
    "# Pixel coordinate grid\n",
    "y,x   = np.mgrid[0:image.shape[0] , 0:image.shape[1]]\n",
    "y,x   = np.mgrid[0:image.shape[0] , 0:image.shape[1]]\n",
    "\n",
    "def get_direction(direction,x0=0.,y0=0.):\n",
    "    if direction=='r':\n",
    "        res = np.hypot(x-x0, y-y0)\n",
    "    elif direction=='y':\n",
    "        res = y\n",
    "    else:\n",
    "        res = x\n",
    "    return res\n",
    "\n",
    "def get_stats(x,y,nbins=10):\n",
    "    n, _ = np.histogram(x, bins=nbins)\n",
    "    sy, _ = np.histogram(x, bins=nbins, weights=y)\n",
    "    sy2, _ = np.histogram(x, bins=nbins, weights=y*y)\n",
    "    \n",
    "    n = np.where(n<1.,np.nan,n)\n",
    "    \n",
    "    bins = (_[1:] + _[:-1])/2\n",
    "    mean = sy / n\n",
    "    \n",
    "    std = np.sqrt(sy2/n - mean*mean) / np.sqrt(n)\n",
    "    return bins, mean, std\n",
    "\n",
    "def make_profile(diff, direction='x', mask=None, nbins=11, x0=0., y0=0.):\n",
    "    idx = np.isfinite(diff) & (diff != 0)\n",
    "    if mask is not None:\n",
    "        idx &= ~mask\n",
    "    \n",
    "    x    = get_direction(direction,x0,y0)\n",
    "    xvar = x[idx].flatten()\n",
    "    cvar = diff[idx].flatten()\n",
    "    xb,cm,ce = get_stats(xvar,cvar,nbins=nbins)\n",
    "    return xb,cm,ce"
   ]
  },
  {
   "cell_type": "code",
   "execution_count": null,
   "id": "3d0935fa",
   "metadata": {},
   "outputs": [],
   "source": []
  },
  {
   "cell_type": "code",
   "execution_count": null,
   "id": "241912aa",
   "metadata": {},
   "outputs": [],
   "source": []
  },
  {
   "cell_type": "code",
   "execution_count": null,
   "id": "49576bc7",
   "metadata": {
    "scrolled": false
   },
   "outputs": [],
   "source": [
    "def plot_profile(x,y,yerr,bins,ax=None):\n",
    "    if ax is None: ax = plt.axes()\n",
    "    xerr = np.diff(bins)/2.\n",
    "    ax.errorbar(x,y,yerr=yerr,xerr=xerr)"
   ]
  },
  {
   "cell_type": "markdown",
   "id": "7c4dc3ed",
   "metadata": {},
   "source": [
    "## Signal Profiles\n",
    "\n",
    "Characterize the singal characteristics on second moments, ellipticity and astrometric shift. "
   ]
  },
  {
   "cell_type": "code",
   "execution_count": null,
   "id": "effa96b5",
   "metadata": {},
   "outputs": [],
   "source": [
    "lines = np.linspace(np.min(x),np.max(x),9)[2:-1]"
   ]
  },
  {
   "cell_type": "code",
   "execution_count": null,
   "id": "f8d72563",
   "metadata": {},
   "outputs": [],
   "source": [
    "lines"
   ]
  },
  {
   "cell_type": "code",
   "execution_count": null,
   "id": "3672e469",
   "metadata": {},
   "outputs": [],
   "source": [
    "rad_bins = np.linspace(0.,5000.,400)"
   ]
  },
  {
   "cell_type": "code",
   "execution_count": null,
   "id": "59afb0d8",
   "metadata": {},
   "outputs": [],
   "source": [
    "def plot_signal_profile_across(images,labels,ax1=None,scale=1.,xlabel=True,mask=None):\n",
    "    if ax1 is None: ax1 = plt.axes()\n",
    "    \n",
    "    for i,image in enumerate(images):\n",
    "        out = make_profile(image, direction='x', mask=mask,x0=xc,y0=yc,nbins=rad_bins)\n",
    "        std = scale*np.nanstd(out[1])\n",
    "        ax1.errorbar(out[0], scale*out[1],yerr=scale*out[2],label=labels[i])\n",
    "        \n",
    "        if i==0: \n",
    "            ax1.set_ylim(-4.*std,4.*std)\n",
    "            print('peak: %.5f'%np.nanmax(np.abs(out[1][np.abs(out[0]-2000.)<1000.])))\n",
    "\n",
    "    for li in lines:\n",
    "        ax1.axvline(li,color='grey',ls='--',lw=3,alpha=0.4)\n",
    "    \n",
    "    ax1.legend(fontsize=12,loc=2)\n",
    "    if xlabel:\n",
    "        ax1.set_xlabel('x [pixels]',fontsize=18)"
   ]
  },
  {
   "cell_type": "code",
   "execution_count": null,
   "id": "60b3c4ef",
   "metadata": {},
   "outputs": [],
   "source": [
    "fig, axs = plt.subplots(3,1,figsize=(12,3*5+2))\n",
    "\n",
    "labels = ['XX','YY','dT']\n",
    "images = [dxx_img,dyy_img,dt_img]\n",
    "plot_signal_profile_across(images,labels,ax1=axs[0],scale=100.,xlabel=False)\n",
    "axs[0].set_ylabel(r'$\\Delta I_{ij} / I_{ij}$   [%]')\n",
    "axs[0].set_title('Second Moments')\n",
    "\n",
    "labels = ['g1','g2']\n",
    "images = [dg1_img,dg2_img]\n",
    "plot_signal_profile_across(images,labels,ax1=axs[1],scale=100.,xlabel=False)\n",
    "axs[1].set_ylabel(r'$signal-mean$', fontsize=14)\n",
    "axs[1].set_title('Ellipticity')\n",
    "\n",
    "labels = ['X','Y','R']\n",
    "images = [dx_img,dy_img,dr_img]\n",
    "plot_signal_profile_across(images,labels,ax1=axs[2],scale=1.,xlabel=True)\n",
    "axs[2].set_ylabel(r'$signal-mean$  [pixel]', fontsize=14)\n",
    "axs[2].set_title('Astrometric Shift')\n",
    "\n",
    "#fig.savefig('figures/fig_2_signal_profile_vs_x.pdf', dpi=240, format='pdf', bbox_inches='tight')"
   ]
  },
  {
   "cell_type": "code",
   "execution_count": null,
   "id": "2edcdb0b",
   "metadata": {},
   "outputs": [],
   "source": []
  },
  {
   "cell_type": "code",
   "execution_count": null,
   "id": "895c455e",
   "metadata": {},
   "outputs": [],
   "source": []
  },
  {
   "cell_type": "code",
   "execution_count": null,
   "id": "790912da",
   "metadata": {},
   "outputs": [],
   "source": [
    "# lines = np.linspace(np.min(x),np.max(x),9)#[1:-1]"
   ]
  },
  {
   "cell_type": "code",
   "execution_count": null,
   "id": "b0cbf9b1",
   "metadata": {},
   "outputs": [],
   "source": [
    "fig2, axes2 = plt.subplots(1, 8, figsize=(16,16))\n",
    "\n",
    "#xbins = np.percentile(xmed[~np.isnan(ymean1)],np.linspace(0,100,9))\n",
    "xbins = np.arange(420,4096,424)\n",
    "\n",
    "for i in range(8):\n",
    "    xmask = np.logical_not((x>xbins[i])&(x<=xbins[i+1]))\n",
    "    #xmask = np.logical_not((x>lines[i])&(x<=lines[i+1]))\n",
    "    ymed, ymean1, yerr1 = make_profile(100.*dxx_img  , direction='y', mask=xmask, x0=xc,y0=yc, nbins=rad_bins)\n",
    "    ymed, ymean2, yerr2 = make_profile(100.*dyy_img  , direction='y', mask=xmask, x0=xc,y0=yc, nbins=rad_bins)\n",
    "    \n",
    "    axes2[i].axvline(0.,ls='--',color='grey',lw=2)\n",
    "    axes2[i].errorbar(ymean1, ymed, yerr=np.diff(rad_bins), xerr=yerr1, label='XX')\n",
    "    axes2[i].errorbar(ymean2, ymed, yerr=np.diff(rad_bins), xerr=yerr2, label='YY')\n",
    "    \n",
    "    axes2[i].set_ylim((0, 4004))\n",
    "    \n",
    "    w, = np.where(np.abs(ymed-2000.)<250.)\n",
    "    pi = np.nanmax(np.abs(ymean2[w]))\n",
    "    print('peak: %.5f'%pi)\n",
    "    if i == 0: li = pi\n",
    "    axes2[i].set_xlim(-li,li)\n",
    "\n",
    "    #axes2[i].set_xlim(50.*levels[0],50.*levels[1])\n",
    "    axes2[i].tick_params(axis='y', labelleft=False)\n",
    "    axes2[i].tick_params(axis='x', labelsize=12)\n",
    "    \n",
    "axes2[0].tick_params(axis='y', labelsize=15, labelleft=True)\n",
    "axes2[0].set_ylabel('Y position [pixels]', fontsize=20)\n",
    "# axes2[3].set_title(r'$\\Delta$2nd moment vs. Y', fontsize=20)\n",
    "axes2[3].set_xlabel(r'$\\Delta I_{ij} / I_{ij}$   [%]', fontsize=24)\n",
    "axes2[7].legend(loc='upper right', fontsize=20)\n",
    "\n",
    "#fig2.savefig('figures/fig_3a_secMoments_profile_across_x.pdf', dpi=240, format='pdf', bbox_inches='tight')"
   ]
  },
  {
   "cell_type": "code",
   "execution_count": null,
   "id": "5a076916",
   "metadata": {},
   "outputs": [],
   "source": []
  },
  {
   "cell_type": "code",
   "execution_count": null,
   "id": "3b9b4f7f",
   "metadata": {},
   "outputs": [],
   "source": [
    "fig2, axes2 = plt.subplots(1, 8, figsize=(16,16))\n",
    "\n",
    "#xbins = np.percentile(xmed[~np.isnan(ymean1)],np.linspace(0,100,9))\n",
    "xbins = np.arange(420,4096,424)\n",
    "\n",
    "for i in range(8):\n",
    "    xmask = np.logical_not((x>xbins[i])&(x<=xbins[i+1]))\n",
    "    ymed, ymean1, yerr1 = make_profile(dx_img, direction='y', mask=xmask, x0=xc,y0=yc, nbins=rad_bins)\n",
    "    ymed, ymean2, yerr2 = make_profile(dy_img, direction='y', mask=xmask, x0=xc,y0=yc, nbins=rad_bins)\n",
    "    \n",
    "    axes2[i].axvline(0.,ls='--',color='grey',lw=2)\n",
    "    axes2[i].errorbar(ymean1, ymed, yerr=np.diff(rad_bins), xerr=yerr1, label='X')\n",
    "    axes2[i].errorbar(ymean2, ymed, yerr=np.diff(rad_bins), xerr=yerr2, label='Y')\n",
    "    \n",
    "    axes2[i].set_ylim((0, 4004))\n",
    "    w, = np.where(np.abs(ymed-2000.)<250.)\n",
    "    pi = np.nanmax(np.abs(ymean2[w]))\n",
    "    print('peak: %.5f'%pi)\n",
    "    if i == 0: li = 1.2*pi\n",
    "    axes2[i].set_xlim(-li,li)\n",
    "\n",
    "    #axes2[i].set_xlim(9.*levels[0],9.*levels[1])\n",
    "    axes2[i].tick_params(axis='y', labelleft=False)\n",
    "    axes2[i].tick_params(axis='x', labelsize=12)\n",
    "    \n",
    "axes2[0].tick_params(axis='y', labelsize=15, labelleft=True)\n",
    "axes2[0].set_ylabel('Y position [pixels]', fontsize=20)\n",
    "# axes2[3].set_title(r'$\\Delta$2nd moment vs. Y', fontsize=20)\n",
    "axes2[3].set_xlabel(r'$signal-mean$ [pixels]', fontsize=24)\n",
    "axes2[7].legend(loc='upper right', fontsize=20)\n",
    "#fig2.savefig('figures/fig_3b_astroShift_profile_across_x.pdf', dpi=240, format='pdf', bbox_inches='tight')"
   ]
  },
  {
   "cell_type": "code",
   "execution_count": null,
   "id": "7449342b",
   "metadata": {},
   "outputs": [],
   "source": [
    "fig2, axes2 = plt.subplots(1, 8, figsize=(16,16))\n",
    "\n",
    "#xbins = np.percentile(xmed[~np.isnan(ymean1)],np.linspace(0,100,9))\n",
    "xbins = np.arange(420,4096,424)\n",
    "\n",
    "for i in range(8):\n",
    "    xmask = np.logical_not((x>xbins[i])&(x<=xbins[i+1]))\n",
    "    ymed, ymean1, yerr1 = make_profile(100.*dg1_img  , direction='y', mask=xmask, x0=xc,y0=yc, nbins=rad_bins)\n",
    "    ymed, ymean2, yerr2 = make_profile(100.*dg2_img  , direction='y', mask=xmask, x0=xc,y0=yc, nbins=rad_bins)\n",
    "    \n",
    "    axes2[i].axvline(0.,ls='--',color='grey',lw=2)\n",
    "    axes2[i].errorbar(ymean1, ymed, yerr=np.diff(rad_bins), xerr=yerr1, label='g1')\n",
    "    axes2[i].errorbar(ymean2, ymed, yerr=np.diff(rad_bins), xerr=yerr2, label='g2')\n",
    "    \n",
    "    axes2[i].set_ylim((0, 4004))\n",
    "    \n",
    "    axes2[i].set_ylim((0, 4004))\n",
    "    w, = np.where(np.abs(ymed-2000.)<250.)\n",
    "    pi = np.nanmax(np.abs(ymean1[w]))\n",
    "    print('peak: %.5f'%pi)\n",
    "    if i == 0: li = 1.02*pi\n",
    "    axes2[i].set_xlim(-li,li)\n",
    "\n",
    "    #axes2[i].set_xlim(50.*levels[0],50.*levels[1])\n",
    "    axes2[i].tick_params(axis='y', labelleft=False)\n",
    "    axes2[i].tick_params(axis='x', labelsize=12)\n",
    "    \n",
    "axes2[0].tick_params(axis='y', labelsize=15, labelleft=True)\n",
    "axes2[0].set_ylabel('Y position [pixels]', fontsize=20)\n",
    "# axes2[3].set_title(r'$\\Delta$2nd moment vs. Y', fontsize=20)\n",
    "axes2[3].set_xlabel(r'$\\Delta g$ [%]', fontsize=24)\n",
    "axes2[7].legend(loc='upper right', fontsize=20)\n",
    "#fig2.savefig('figures/fig_3c_ellipticity_profile_across_x.pdf', dpi=240, format='pdf', bbox_inches='tight')"
   ]
  },
  {
   "cell_type": "code",
   "execution_count": null,
   "id": "95e9257a",
   "metadata": {},
   "outputs": [],
   "source": []
  },
  {
   "cell_type": "code",
   "execution_count": null,
   "id": "b70ab995",
   "metadata": {},
   "outputs": [],
   "source": []
  },
  {
   "cell_type": "markdown",
   "id": "3d491613",
   "metadata": {},
   "source": [
    "# Tree Ring Signal \n",
    "\n",
    "ompare the tree ring signals"
   ]
  },
  {
   "cell_type": "code",
   "execution_count": null,
   "id": "60aad576",
   "metadata": {},
   "outputs": [],
   "source": [
    "sensor = 'e2v'\n",
    "dr = np.load('profiles/polar_{}_{}.npy'.format(sensor,'dr'))\n",
    "dT = np.load('profiles/polar_{}_{}.npy'.format(sensor,'dT'))\n",
    "dg = np.load('profiles/polar_{}_{}.npy'.format(sensor,'dgr'))\n",
    "dF = np.load('profiles/polar_{}_{}.npy'.format(sensor,'flat_norm'))"
   ]
  },
  {
   "cell_type": "code",
   "execution_count": null,
   "id": "79549d44",
   "metadata": {},
   "outputs": [],
   "source": [
    "border = 50\n",
    "rmin, rmax = dr[0][0]-border, dr[0][-1]+border"
   ]
  },
  {
   "cell_type": "code",
   "execution_count": null,
   "id": "efd091fa",
   "metadata": {},
   "outputs": [],
   "source": []
  },
  {
   "cell_type": "code",
   "execution_count": null,
   "id": "3433ac88",
   "metadata": {},
   "outputs": [],
   "source": []
  },
  {
   "cell_type": "code",
   "execution_count": null,
   "id": "c4467e91",
   "metadata": {},
   "outputs": [],
   "source": [
    "from scipy.signal.signaltools import wiener\n",
    "from scipy.signal import savgol_filter, general_gaussian\n",
    "import scipy\n",
    "\n",
    "def integrate_signal(r,signal,fs=1000,window=31,p=3):\n",
    "    noisy     = np.zeros_like(r)\n",
    "    noisy[1:] = np.array([scipy.integrate.simps(r[:i]*signal[:i],x=r[:i])/r[i] for i in range(1,len(r))])\n",
    "    \n",
    "    filtered = low_pass_filter(r,noisy,freq=1/fs)\n",
    "    res  = savgol_filter(filtered, window, polyorder = p, deriv=0)\n",
    "    return filtered\n",
    "\n",
    "import numpy as np\n",
    "from scipy.fftpack import rfft, irfft, fftfreq\n",
    "\n",
    "def low_pass_filter(time,signal,freq=1/150):\n",
    "    W = fftfreq(signal.size, d=time[1]-time[0])\n",
    "    f_signal = rfft(signal)\n",
    "\n",
    "    # If our original signal time was in seconds, this is now in Hz    \n",
    "    cut_f_signal = f_signal.copy()\n",
    "    cut_f_signal[(W<freq)] = 0\n",
    "\n",
    "    cut_signal = irfft(cut_f_signal)\n",
    "    return cut_signal"
   ]
  },
  {
   "cell_type": "code",
   "execution_count": null,
   "id": "d86ae281",
   "metadata": {},
   "outputs": [],
   "source": [
    "def plot_signal(out,ax=None,color=None,unit='%',label=\"\",fill=False,factor=1.,\n",
    "                percentage=False,alpha=0.8,ls='solid'):\n",
    "    x,y,ym,yp = out[0], out[1], out[3], out[4]\n",
    "    \n",
    "    pr=1.\n",
    "    if percentage: pr=100.\n",
    "    ys = savgol_filter(y, window, polyorder = 3, deriv=0)    \n",
    "    if ax is None: ax=plt.axes()\n",
    "    p     = ax.plot(x, factor*ys*pr, lw=3, color=color,label=label,alpha=alpha,ls=ls)\n",
    "    ax.plot(x,0.*x, 'k',ls=(0, (3, 10, 1, 10)),lw=2)\n",
    "    color = p[0].get_color()\n",
    "    if fill:    ax.fill_between(x,factor*pr*ym,factor*pr*yp,alpha=0.3, label=None, color=color)\n",
    "        \n",
    "    ax.set_xlabel('radii [pixels]')\n",
    "    ax.set_ylabel('dev. from mean [%s]'%(unit))"
   ]
  },
  {
   "cell_type": "code",
   "execution_count": null,
   "id": "a3e4eca3",
   "metadata": {},
   "outputs": [],
   "source": [
    "def get_factor(list1,list2,is_range=True):\n",
    "    x = list1[1]\n",
    "    y = list2[1]\n",
    "    \n",
    "    if is_range: x = x[(list2[0]).astype(int)-(list1[0][0]).astype(int)]\n",
    "        \n",
    "    xstd = np.nanstd(x)\n",
    "    ystd = np.nanstd(y)\n",
    "    \n",
    "    factor = ystd/xstd\n",
    "    print('factor: %.2e'%factor)\n",
    "    return factor"
   ]
  },
  {
   "cell_type": "code",
   "execution_count": null,
   "id": "ab8ddf82",
   "metadata": {},
   "outputs": [],
   "source": []
  },
  {
   "cell_type": "code",
   "execution_count": null,
   "id": "a94d9049",
   "metadata": {},
   "outputs": [],
   "source": []
  },
  {
   "cell_type": "code",
   "execution_count": null,
   "id": "6814c679",
   "metadata": {},
   "outputs": [],
   "source": [
    "wlabel= r'$\\frac{1}{r}\\int_{0}^{r} r^\\prime w(r^\\prime) dr^\\prime$'\n",
    "dtlabel= r'$\\frac{1}{r}\\int_{0}^{r} r^\\prime dT(r^\\prime) dr^\\prime$'\n",
    "dglabel= r'$\\frac{1}{r}\\int_{0}^{r} r^\\prime dg(r^\\prime) dr^\\prime$'"
   ]
  },
  {
   "cell_type": "code",
   "execution_count": null,
   "id": "dfa2f9b9",
   "metadata": {},
   "outputs": [],
   "source": [
    "#fs     = 91\n",
    "window = 71\n",
    "p      = 3\n",
    "\n",
    "dr2 = [dr[0]] \n",
    "dr2+= [savgol_filter(signal, window, polyorder = p, deriv=1) for signal in dr[1:]]"
   ]
  },
  {
   "cell_type": "code",
   "execution_count": null,
   "id": "24ccf930",
   "metadata": {},
   "outputs": [],
   "source": [
    "factor=1."
   ]
  },
  {
   "cell_type": "code",
   "execution_count": null,
   "id": "05b07d43",
   "metadata": {},
   "outputs": [],
   "source": [
    "colors = ['#E74C3C','#8E44AD','#3498DB','#16A085','#16A085','#000080','k']"
   ]
  },
  {
   "cell_type": "code",
   "execution_count": null,
   "id": "572d7b28",
   "metadata": {},
   "outputs": [],
   "source": []
  },
  {
   "cell_type": "code",
   "execution_count": null,
   "id": "e38ef094",
   "metadata": {},
   "outputs": [],
   "source": [
    "fig, axs = plt.subplots(2, 2, figsize=(28, 2*6+2))\n",
    "\n",
    "ax = axs[0,0]\n",
    "factor = 1.#get_factor(dF,dT)\n",
    "plot_signal(dF,label=r'$ %.2f \\times $ Flat Field'%(-1*factor),\n",
    "             ax=ax,factor=-1*factor,unit='%',color=colors[-1],ls='-.')\n",
    "plot_signal(dT,label='dT',ax=ax,fill=False,color=colors[1])\n",
    "ax.legend(fontsize=16)\n",
    "ymax = 3*np.std(dg[1])\n",
    "ax.legend(fontsize=16)\n",
    "ax.set_xlim(rmin,rmax)\n",
    "ax.set_ylim(-ymax,ymax)\n",
    "ax.set_title('Second Moments')\n",
    "\n",
    "ax = axs[0,1]\n",
    "factor = 1.\n",
    "plot_signal(dF,label=r'$ %.2f \\times $ Flat Field'%(-1*factor),\n",
    "             ax=ax,factor=-1*factor,unit='%',color=colors[-1],ls='-.')\n",
    "plot_signal(dg,label='g(r)',ax=ax,fill=False,color=colors[2])\n",
    "ax.legend(fontsize=16)\n",
    "#ymax = 3*np.std(dg[1])\n",
    "ax.legend(fontsize=16)\n",
    "ax.set_xlim(rmin,rmax)\n",
    "ax.set_ylim(-ymax,ymax)\n",
    "ax.set_title('Ellipticity')\n",
    "\n",
    "ax     = axs[1,0]\n",
    "factor = 1.\n",
    "plot_signal(dF,label=r'$%.2f \\times$ %s'%(-1*factor,'Flat Field'),ax=ax,\n",
    "            factor=-1*factor, fill=False,unit='%',color=colors[-1],ls='-.')\n",
    "plot_signal(dr2,label='$\\partial_r f(r)$',ax=ax,fill=False,color=colors[5])\n",
    "#ymax = 3*np.std(dr2[1])\n",
    "ax.legend(fontsize=16)\n",
    "ax.set_xlim(rmin,rmax)\n",
    "ax.set_ylim(-ymax,ymax)\n",
    "ax.set_title('Astrometric Shift')\n",
    "\n",
    "ax = axs[1,1]\n",
    "factor = 1.#get_factor(dT,dr2,is_range=False)\n",
    "plot_signal(dT,label=r'%s'%('dT'),ax=ax,factor=+1.,fill=False,unit='%',color=colors[2])\n",
    "plot_signal(dg,label=r'%s'%('dg(r)') ,ax=ax,factor=+1.,fill=False,unit='%',color=colors[5],ls='-.')\n",
    "plot_signal(dr2,label=r'$\\partial_r f(r)$',ax=ax,fill=False,color=colors[1],ls='--')\n",
    "ax.legend(fontsize=16)\n",
    "\n",
    "#ymax = 3*np.std(dr2[1])\n",
    "ax.legend(fontsize=16)\n",
    "ax.set_xlim(rmin,rmax)\n",
    "ax.set_ylim(-ymax,ymax)\n",
    "ax.set_title(title+' - Signal Comparasion')\n",
    "#fig.savefig('figures/fig_5.pdf', dpi=240, format='pdf', bbox_inches='tight')"
   ]
  },
  {
   "cell_type": "code",
   "execution_count": null,
   "id": "8e06ecfd",
   "metadata": {},
   "outputs": [],
   "source": []
  },
  {
   "cell_type": "code",
   "execution_count": null,
   "id": "90911f87",
   "metadata": {},
   "outputs": [],
   "source": []
  },
  {
   "cell_type": "code",
   "execution_count": null,
   "id": "04ba2218",
   "metadata": {},
   "outputs": [],
   "source": []
  },
  {
   "cell_type": "code",
   "execution_count": null,
   "id": "1670f6c7",
   "metadata": {},
   "outputs": [],
   "source": []
  }
 ],
 "metadata": {
  "kernelspec": {
   "display_name": "Python 3",
   "language": "python",
   "name": "python3"
  },
  "language_info": {
   "codemirror_mode": {
    "name": "ipython",
    "version": 3
   },
   "file_extension": ".py",
   "mimetype": "text/x-python",
   "name": "python",
   "nbconvert_exporter": "python",
   "pygments_lexer": "ipython3",
   "version": "3.8.8"
  }
 },
 "nbformat": 4,
 "nbformat_minor": 5
}
